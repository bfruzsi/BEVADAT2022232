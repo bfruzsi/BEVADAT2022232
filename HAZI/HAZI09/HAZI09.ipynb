{
 "cells": [
  {
   "cell_type": "code",
   "execution_count": 1,
   "metadata": {},
   "outputs": [],
   "source": [
    "# imports\n",
    "import matplotlib.pyplot as plt\n",
    "import seaborn as sns\n",
    "sns.set()\n",
    "import numpy as np\n",
    "from sklearn.cluster import KMeans\n",
    "from sklearn.metrics import accuracy_score\n",
    "from scipy.stats import mode\n",
    "from sklearn.metrics import confusion_matrix\n",
    "from sklearn.datasets import load_digits\n",
    "import pandas as pd"
   ]
  },
  {
   "cell_type": "code",
   "execution_count": 23,
   "metadata": {},
   "outputs": [],
   "source": [
    "# Készíts egy függvényt ami betölti a digits datasetet \n",
    "# NOTE: használd az sklearn load_digits-et\n",
    "# Függvény neve: load_digits()\n",
    "# Függvény visszatérési értéke: a load_digits visszatérési értéke\n",
    "\n",
    "def load_digits_data():\n",
    "    digits = load_digits()\n",
    "    return digits\n",
    "\n",
    "data = load_digits_data()\n"
   ]
  },
  {
   "cell_type": "code",
   "execution_count": 24,
   "metadata": {},
   "outputs": [
    {
     "name": "stdout",
     "output_type": "stream",
     "text": [
      "['pixel_0_0', 'pixel_0_1', 'pixel_0_2', 'pixel_0_3', 'pixel_0_4', 'pixel_0_5', 'pixel_0_6', 'pixel_0_7', 'pixel_1_0', 'pixel_1_1', 'pixel_1_2', 'pixel_1_3', 'pixel_1_4', 'pixel_1_5', 'pixel_1_6', 'pixel_1_7', 'pixel_2_0', 'pixel_2_1', 'pixel_2_2', 'pixel_2_3', 'pixel_2_4', 'pixel_2_5', 'pixel_2_6', 'pixel_2_7', 'pixel_3_0', 'pixel_3_1', 'pixel_3_2', 'pixel_3_3', 'pixel_3_4', 'pixel_3_5', 'pixel_3_6', 'pixel_3_7', 'pixel_4_0', 'pixel_4_1', 'pixel_4_2', 'pixel_4_3', 'pixel_4_4', 'pixel_4_5', 'pixel_4_6', 'pixel_4_7', 'pixel_5_0', 'pixel_5_1', 'pixel_5_2', 'pixel_5_3', 'pixel_5_4', 'pixel_5_5', 'pixel_5_6', 'pixel_5_7', 'pixel_6_0', 'pixel_6_1', 'pixel_6_2', 'pixel_6_3', 'pixel_6_4', 'pixel_6_5', 'pixel_6_6', 'pixel_6_7', 'pixel_7_0', 'pixel_7_1', 'pixel_7_2', 'pixel_7_3', 'pixel_7_4', 'pixel_7_5', 'pixel_7_6', 'pixel_7_7']\n"
     ]
    }
   ],
   "source": [
    "# Vizsgáld meg a betöltött adatszetet (milyen elemek vannak benne stb.)\n",
    "print(data.feature_names)"
   ]
  },
  {
   "cell_type": "code",
   "execution_count": 25,
   "metadata": {},
   "outputs": [
    {
     "name": "stdout",
     "output_type": "stream",
     "text": [
      "      pixel_0_0  pixel_0_1  pixel_0_2  pixel_0_3  pixel_0_4  pixel_0_5  \\\n",
      "0           0.0        0.0        5.0       13.0        9.0        1.0   \n",
      "1           0.0        0.0        0.0       12.0       13.0        5.0   \n",
      "2           0.0        0.0        0.0        4.0       15.0       12.0   \n",
      "3           0.0        0.0        7.0       15.0       13.0        1.0   \n",
      "4           0.0        0.0        0.0        1.0       11.0        0.0   \n",
      "...         ...        ...        ...        ...        ...        ...   \n",
      "1792        0.0        0.0        4.0       10.0       13.0        6.0   \n",
      "1793        0.0        0.0        6.0       16.0       13.0       11.0   \n",
      "1794        0.0        0.0        1.0       11.0       15.0        1.0   \n",
      "1795        0.0        0.0        2.0       10.0        7.0        0.0   \n",
      "1796        0.0        0.0       10.0       14.0        8.0        1.0   \n",
      "\n",
      "      pixel_0_6  pixel_0_7  pixel_1_0  pixel_1_1  ...  pixel_6_6  pixel_6_7  \\\n",
      "0           0.0        0.0        0.0        0.0  ...        0.0        0.0   \n",
      "1           0.0        0.0        0.0        0.0  ...        0.0        0.0   \n",
      "2           0.0        0.0        0.0        0.0  ...        5.0        0.0   \n",
      "3           0.0        0.0        0.0        8.0  ...        9.0        0.0   \n",
      "4           0.0        0.0        0.0        0.0  ...        0.0        0.0   \n",
      "...         ...        ...        ...        ...  ...        ...        ...   \n",
      "1792        0.0        0.0        0.0        1.0  ...        4.0        0.0   \n",
      "1793        1.0        0.0        0.0        0.0  ...        1.0        0.0   \n",
      "1794        0.0        0.0        0.0        0.0  ...        0.0        0.0   \n",
      "1795        0.0        0.0        0.0        0.0  ...        2.0        0.0   \n",
      "1796        0.0        0.0        0.0        2.0  ...        8.0        0.0   \n",
      "\n",
      "      pixel_7_0  pixel_7_1  pixel_7_2  pixel_7_3  pixel_7_4  pixel_7_5  \\\n",
      "0           0.0        0.0        6.0       13.0       10.0        0.0   \n",
      "1           0.0        0.0        0.0       11.0       16.0       10.0   \n",
      "2           0.0        0.0        0.0        3.0       11.0       16.0   \n",
      "3           0.0        0.0        7.0       13.0       13.0        9.0   \n",
      "4           0.0        0.0        0.0        2.0       16.0        4.0   \n",
      "...         ...        ...        ...        ...        ...        ...   \n",
      "1792        0.0        0.0        2.0       14.0       15.0        9.0   \n",
      "1793        0.0        0.0        6.0       16.0       14.0        6.0   \n",
      "1794        0.0        0.0        2.0        9.0       13.0        6.0   \n",
      "1795        0.0        0.0        5.0       12.0       16.0       12.0   \n",
      "1796        0.0        1.0        8.0       12.0       14.0       12.0   \n",
      "\n",
      "      pixel_7_6  pixel_7_7  \n",
      "0           0.0        0.0  \n",
      "1           0.0        0.0  \n",
      "2           9.0        0.0  \n",
      "3           0.0        0.0  \n",
      "4           0.0        0.0  \n",
      "...         ...        ...  \n",
      "1792        0.0        0.0  \n",
      "1793        0.0        0.0  \n",
      "1794        0.0        0.0  \n",
      "1795        0.0        0.0  \n",
      "1796        1.0        0.0  \n",
      "\n",
      "[1797 rows x 64 columns]\n"
     ]
    },
    {
     "data": {
      "text/plain": [
       "(1797, 64)"
      ]
     },
     "execution_count": 25,
     "metadata": {},
     "output_type": "execute_result"
    }
   ],
   "source": [
    "# Vizsgáld meg a data paraméterét a digits dataset-nek (tartalom,shape...)\n",
    "df = pd.DataFrame(data.data, columns=data.feature_names)\n",
    "print(df)\n",
    "df.shape"
   ]
  },
  {
   "cell_type": "code",
   "execution_count": 26,
   "metadata": {},
   "outputs": [
    {
     "name": "stderr",
     "output_type": "stream",
     "text": [
      "c:\\Users\\Fruzsi\\AppData\\Local\\Programs\\Python\\Python39\\lib\\site-packages\\sklearn\\cluster\\_kmeans.py:870: FutureWarning: The default value of `n_init` will change from 10 to 'auto' in 1.4. Set the value of `n_init` explicitly to suppress the warning\n",
      "  warnings.warn(\n"
     ]
    }
   ],
   "source": [
    "# Készíts egy függvényt ami létrehoz egy KMeans model-t 10 db cluster-el\n",
    "# NOTE: használd az sklearn Kmeans model-jét (random_state legyen 0)\n",
    "# Miután megvan a model predict-elj vele \n",
    "# NOTE: használd a fit_predict-et\n",
    "# Függvény neve: predict(n_clusters:int,random_state:int,digits)\n",
    "# Függvény visszatérési értéke: (model:sklearn.cluster.KMeans,clusters:np.ndarray)\n",
    "\n",
    "def predict(n_clusters:int, random_state:int, digits):\n",
    "    kmeans = KMeans(n_clusters = n_clusters, random_state = random_state)  # model\n",
    "\n",
    "    y_pred = kmeans.fit_predict(digits.data)  # clusters\n",
    "\n",
    "    return kmeans, y_pred\n",
    "\n",
    "\n",
    "kmeans_pred = predict(10, 0, data)\n",
    "# plt.scatter(data.data[:, 0], data.data[:, 1], c = kmeans_pred[1], s = 50, cmap = 'viridis')\n",
    "# plt.show()\n"
   ]
  },
  {
   "cell_type": "code",
   "execution_count": 27,
   "metadata": {},
   "outputs": [
    {
     "data": {
      "text/plain": [
       "(10, 64)"
      ]
     },
     "execution_count": 27,
     "metadata": {},
     "output_type": "execute_result"
    }
   ],
   "source": [
    "# Vizsgáld meg a shape-jét a kapott model cluster_centers_ paraméterének.\n",
    "cc = kmeans_pred[0].cluster_centers_\n",
    "\n",
    "cc.shape"
   ]
  },
  {
   "cell_type": "code",
   "execution_count": 28,
   "metadata": {},
   "outputs": [
    {
     "data": {
      "image/png": "[encoded data removed]",
      "text/plain": [
       "<Figure size 640x480 with 1 Axes>"
      ]
     },
     "metadata": {},
     "output_type": "display_data"
    }
   ],
   "source": [
    "# Készíts egy plotot ami a cluster középpontokat megjeleníti\n",
    "\n",
    "centers = kmeans_pred[0].cluster_centers_\n",
    "plt.scatter(data.data[:, 0], data.data[:, 1], c = kmeans_pred[1], s = 50, cmap = 'viridis')\n",
    "#plt.show()\n",
    "plt.scatter(centers[:, 0], centers[:, 1], c = 'red', s = 200, alpha = 0.5)\n",
    "plt.show()"
   ]
  },
  {
   "cell_type": "code",
   "execution_count": 43,
   "metadata": {},
   "outputs": [
    {
     "name": "stdout",
     "output_type": "stream",
     "text": [
      "[]\n",
      "[]\n",
      "[0. 0. 0. ... 0. 0. 0.]\n"
     ]
    },
    {
     "name": "stderr",
     "output_type": "stream",
     "text": [
      "C:\\Users\\Fruzsi\\AppData\\Local\\Temp\\ipykernel_27704\\2825742673.py:22: FutureWarning: Unlike other reduction functions (e.g. `skew`, `kurtosis`), the default behavior of `mode` typically preserves the axis it acts along. In SciPy 1.11.0, this behavior will change: the default value of `keepdims` will become False, the `axis` over which the statistic is taken will be eliminated, and the value None will no longer be accepted. Set `keepdims` to True or False to avoid this warning.\n",
      "  d_mode, kaki = mode(xd)\n"
     ]
    }
   ],
   "source": [
    "# Készíts egy függvényt ami visszaadja a predictált cluster osztályokat\n",
    "# NOTE: amit a predict-ből visszakaptunk \"clusters\" azok lesznek a predictált cluster osztályok\n",
    "# HELP: amit a model predictált cluster osztályok még nem a labelek, hanem csak random cluster osztályok, \n",
    "#       Hogy label legyen belőlük:\n",
    "#       1. készíts egy result array-t ami ugyan annyi elemű mint a predictált cluster array\n",
    "#       2. menj végig mindegyik cluster osztályon (0,1....9)\n",
    "#       3. készíts egy maszkot ami az adott cluster osztályba tartozó elemeket adja vissza\n",
    "#       4. a digits.target-jét indexeld meg ezzel a maszkkal\n",
    "#       5. számold ki ennel a subarray-nek a móduszát\n",
    "#       6. a result array-ben tedd egyenlővé a módusszal azokat az indexeket ahol a maszk True \n",
    "#       Erre azért van szükség mert semmi nem biztosítja nekünk azt, hogy a \"0\" cluster a \"0\" label lesz, lehet, hogy az \"5\" label lenne az.\n",
    "\n",
    "# Függvény neve: get_labels(clusters:np.ndarray, digits)\n",
    "# Függvény visszatérési értéke: labels:np.ndarray\n",
    "\n",
    "def get_labels(clusters:np.ndarray, digits):\n",
    "    result_array = np.zeros(len(clusters)) #kmeans_pred\n",
    "    for i in range(len(clusters)):\n",
    "        mask = (clusters == i)\n",
    "    \n",
    "        xd = data.target[mask]\n",
    "    d_mode, kaki = mode(xd)\n",
    "\n",
    "    result_array[mask] = d_mode\n",
    "    print(d_mode)\n",
    "    print(kaki)\n",
    "    print(result_array)\n",
    "    return result_array\n",
    "        \n",
    "        \n",
    "pred_labels = get_labels(kmeans_pred[1], data)\n"
   ]
  },
  {
   "cell_type": "code",
   "execution_count": 96,
   "metadata": {},
   "outputs": [
    {
     "data": {
      "text/plain": [
       "0.1"
      ]
     },
     "execution_count": 96,
     "metadata": {},
     "output_type": "execute_result"
    }
   ],
   "source": [
    "# Készíts egy függvényt ami kiszámolja a model accuracy-jét\n",
    "# Függvény neve: calc_accuracy(target_labels:np.ndarray,predicted_labels:np.ndarray)\n",
    "# Függvény visszatérési értéke: accuracy:float\n",
    "# NOTE: Kerekítsd 2 tizedes jegyre az accuracy-t\n",
    "\n",
    "def calc_accuracy(target_labels:np.ndarray,predicted_labels:np.ndarray):\n",
    "    acc = accuracy_score(target_labels, predicted_labels)\n",
    "    return acc.round(decimals=2)\n",
    "\n",
    "calc_accuracy(data.target, pred_labels)"
   ]
  },
  {
   "cell_type": "code",
   "execution_count": 97,
   "metadata": {},
   "outputs": [
    {
     "data": {
      "text/plain": [
       "<Axes: >"
      ]
     },
     "execution_count": 97,
     "metadata": {},
     "output_type": "execute_result"
    },
    {
     "data": {
      "image/png": "[encoded data removed]",
      "text/plain": [
       "<Figure size 640x480 with 2 Axes>"
      ]
     },
     "metadata": {},
     "output_type": "display_data"
    }
   ],
   "source": [
    "# Készíts egy confusion mátrixot és plot-old seaborn segítségével\n",
    "\n",
    "conf_matrix = confusion_matrix(kmeans_pred[1], pred_labels)\n",
    "sns.heatmap(conf_matrix, annot = True)"
   ]
  },
  {
   "cell_type": "code",
   "execution_count": null,
   "metadata": {},
   "outputs": [],
   "source": []
  }
 ],
 "metadata": {
  "kernelspec": {
   "display_name": "Python 3",
   "language": "python",
   "name": "python3"
  },
  "language_info": {
   "codemirror_mode": {
    "name": "ipython",
    "version": 3
   },
   "file_extension": ".py",
   "mimetype": "text/x-python",
   "name": "python",
   "nbconvert_exporter": "python",
   "pygments_lexer": "ipython3",
   "version": "3.9.13"
  },
  "orig_nbformat": 4
 },
 "nbformat": 4,
 "nbformat_minor": 2
}
