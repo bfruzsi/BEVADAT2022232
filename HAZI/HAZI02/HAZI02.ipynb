{
 "cells": [
  {
   "cell_type": "code",
   "execution_count": 1,
   "metadata": {},
   "outputs": [],
   "source": [
    "import numpy as np"
   ]
  },
  {
   "cell_type": "code",
   "execution_count": 2,
   "metadata": {},
   "outputs": [],
   "source": [
    "#FONTOS!!!\n",
    "\n",
    "# CSAK OTT LEHET HASZNÁLNI FOR LOOP-OT AHOL A FELADAT KÜLÖN KÉRI!\n",
    "# [1,2,3,4] --> ezek az értékek np.array-ek. Ahol listát kérek paraméterként ott külön ki fogom emelni!\n",
    "# Ha végeztél a feladatokkal, akkor notebook-ot alakítsd át .py.\n",
    "# A FÁJLBAN CSAK A FÜGGVÉNYEK LEGYENEK! (KOMMENTEK MARADHATNAK)"
   ]
  },
  {
   "cell_type": "code",
   "execution_count": 3,
   "metadata": {},
   "outputs": [],
   "source": [
    "# Írj egy olyan fügvényt, ami megfordítja egy 2d array oszlopait. Bemenetként egy array-t vár.\n",
    "# Be: [[1,2],[3,4]]\n",
    "# Ki: [[2,1],[4,3]]\n",
    "# column_swap()"
   ]
  },
  {
   "cell_type": "code",
   "execution_count": 6,
   "metadata": {},
   "outputs": [
    {
     "data": {
      "text/plain": [
       "array([[2, 1],\n",
       "       [4, 3]])"
      ]
     },
     "execution_count": 6,
     "metadata": {},
     "output_type": "execute_result"
    }
   ],
   "source": [
    "def column_swap(array: np.array) -> np.array:\n",
    "    return np.fliplr(array)\n",
    "\n",
    "column_swap(np.array([[1,2],[3,4]]))"
   ]
  },
  {
   "cell_type": "code",
   "execution_count": 78,
   "metadata": {},
   "outputs": [],
   "source": [
    "# Készíts egy olyan függvényt ami összehasonlít két array-t és adjon vissza egy array-ben, hogy hol egyenlőek \n",
    "# Pl Be: [7,8,9], [9,8,7] \n",
    "# Ki: [1]\n",
    "# compare_two_array()\n",
    "# egyenlő elemszámúakra kell csak hogy működjön"
   ]
  },
  {
   "cell_type": "code",
   "execution_count": 79,
   "metadata": {},
   "outputs": [
    {
     "data": {
      "text/plain": [
       "(array([1], dtype=int64),)"
      ]
     },
     "execution_count": 79,
     "metadata": {},
     "output_type": "execute_result"
    }
   ],
   "source": [
    "def compare_two_array(array1: np.array, array2: np.array) -> np.array:\n",
    "    return np.where(array1 == array2)\n",
    "\n",
    "array1 = [7,8,9]\n",
    "array2 = [9,8,7]\n",
    "compare_two_array(np.array(array1), np.array(array2))"
   ]
  },
  {
   "cell_type": "code",
   "execution_count": 107,
   "metadata": {},
   "outputs": [],
   "source": [
    "# Készíts egy olyan függvényt, ami vissza adja string-ként a megadott array dimenzióit:\n",
    "# Be: [[1,2,3], [4,5,6]]\n",
    "# Ki: \"sor: 2, oszlop: 3, melyseg: 1\"\n",
    "# get_array_shape()\n",
    "# 3D-vel még műküdnie kell!, "
   ]
  },
  {
   "cell_type": "code",
   "execution_count": 112,
   "metadata": {},
   "outputs": [
    {
     "data": {
      "text/plain": [
       "'sor: 2, oszlop: 2, melyseg: 3'"
      ]
     },
     "execution_count": 112,
     "metadata": {},
     "output_type": "execute_result"
    }
   ],
   "source": [
    "def get_array_shape(array: np.array) -> np.array:\n",
    "\n",
    "    row = 1\n",
    "    column = 1\n",
    "    depth = 1\n",
    "\n",
    "    if np.ndim(array) == 3:\n",
    "        column = array.shape[0]\n",
    "        row = array.shape[1]\n",
    "        depth = array.shape[2]\n",
    "        return \"sor: {}, oszlop: {}, melyseg: {}\".format(row, column, depth)\n",
    "        #result = \"sor: {}, oszlop: {}, melyseg: {}\".format(*size)\n",
    "    elif np.ndim(array) == 2:\n",
    "         column = array.shape[0]\n",
    "         row = array.shape[1]\n",
    "         #return \"sor: \" + str(row) + \", \" + \"oszlop: \" + str(column) + \", \" + \"melyseg: \" + str(depth)\n",
    "         return \"sor: {}, oszlop: {}, melyseg: {}\".format(column, row, depth)\n",
    "    else:\n",
    "        column = array.shape[0]\n",
    "        #return \"sor: \" + str(row) + \", \" + \"oszlop: \" + str(column) + \", \" + \"melyseg: \" + str(depth)\n",
    "        return \"sor: {}, oszlop: {}, melyseg: {}\".format(row, column, depth)\n",
    "    \n",
    "    #[[1,2,3], [4,5,6]]\n",
    "    #[[[1,2,3], [4,5,6]],[[1,2,3], [4,5,6]]]\n",
    "\n",
    "get_array_shape(np.array([[[1,2,3], [4,5,6]],[[1,2,3], [4,5,6]]]))\n"
   ]
  },
  {
   "cell_type": "code",
   "execution_count": 82,
   "metadata": {},
   "outputs": [],
   "source": [
    "# Készíts egy olyan függvényt, aminek segítségével elő tudod állítani egy neurális hálózat tanításához szükséges pred-et egy numpy array-ből. \n",
    "# Bementként add meg az array-t, illetve hogy mennyi class-od van. Kimenetként pedig adjon vissza egy 2d array-t, ahol a sorok az egyes elemek. Minden nullákkal teli legyen és csak ott álljon egyes, ahol a bementi tömb megjelöli. \n",
    "# Pl. ha 1 van a bemeneten és 4 classod van, akkor az adott sorban az array-ban a [1] helyen álljon egy 1-es, a többi helyen pedig 0.\n",
    "# Be: [1, 2, 0, 3], 4\n",
    "# Ki: [[0,1,0,0], [0, 0, 1, 0], [1, 0, 0, 0], [0, 0, 0, 1]]\n",
    "# encode_Y()"
   ]
  },
  {
   "cell_type": "code",
   "execution_count": 83,
   "metadata": {},
   "outputs": [
    {
     "data": {
      "text/plain": [
       "array([[0., 1., 0., 0.],\n",
       "       [0., 0., 1., 0.],\n",
       "       [1., 0., 0., 0.],\n",
       "       [0., 0., 0., 1.]])"
      ]
     },
     "execution_count": 83,
     "metadata": {},
     "output_type": "execute_result"
    }
   ],
   "source": [
    "def encode_Y(array: np.array, classes: int) -> np.array:\n",
    "    result = np.zeros((len(array), classes))\n",
    "    result[np.arange(len(array)), array] = 1\n",
    "\n",
    "    return result\n",
    "\n",
    "encode_Y([1, 2, 0, 3], 4)"
   ]
  },
  {
   "cell_type": "code",
   "execution_count": 84,
   "metadata": {},
   "outputs": [],
   "source": [
    "# A fenti feladatnak valósítsd meg a kiértékelését. Adj meg a 2d array-t és adj vissza a decodolt változatát\n",
    "# Be:  [[0,1,0,0], [0, 0, 1, 0], [1, 0, 0, 0], [0, 0, 0, 1]]\n",
    "# Ki:  [1, 2, 0, 3]\n",
    "# decode_Y()"
   ]
  },
  {
   "cell_type": "code",
   "execution_count": 85,
   "metadata": {},
   "outputs": [
    {
     "data": {
      "text/plain": [
       "array([1, 2, 0, 3], dtype=int64)"
      ]
     },
     "execution_count": 85,
     "metadata": {},
     "output_type": "execute_result"
    }
   ],
   "source": [
    "def decode_Y(twoDarray: np.array) -> np.array:\n",
    "    result = np.where(twoDarray == 1)[1]\n",
    "    return result\n",
    "\n",
    "decode_Y(np.array([[0,1,0,0], [0, 0, 1, 0], [1, 0, 0, 0], [0, 0, 0, 1]]))"
   ]
  },
  {
   "cell_type": "code",
   "execution_count": 86,
   "metadata": {},
   "outputs": [],
   "source": [
    "# Készíts egy olyan függvényt, ami képes kiértékelni egy neurális háló eredményét! Bemenetként egy listát és egy array-t és adja vissza azt az elemet, aminek a legnagyobb a valószínüsége(értéke) a listából.\n",
    "# Be: ['alma', 'körte', 'szilva'], [0.2, 0.2, 0.6]. # Az ['alma', 'körte', 'szilva'] egy lista!\n",
    "# Ki: 'szilva'\n",
    "# eval_classification()"
   ]
  },
  {
   "cell_type": "code",
   "execution_count": 87,
   "metadata": {},
   "outputs": [
    {
     "data": {
      "text/plain": [
       "'szilva'"
      ]
     },
     "execution_count": 87,
     "metadata": {},
     "output_type": "execute_result"
    }
   ],
   "source": [
    "def eval_classification(mylist: list, array: np.array):\n",
    "    max_index = np.argmax(array)\n",
    "    return mylist[max_index]\n",
    "\n",
    "eval_classification(['alma', 'körte', 'szilva'], [0.2, 0.2, 0.6])"
   ]
  },
  {
   "cell_type": "code",
   "execution_count": 88,
   "metadata": {},
   "outputs": [],
   "source": [
    "# Készíts egy olyan függvényt, ahol az 1D array-ben a páratlan számokat -1-re cseréli\n",
    "# Be: [1,2,3,4,5,6]\n",
    "# Ki: [-1,2,-1,4,-1,6]\n",
    "# repalce_odd_numbers()"
   ]
  },
  {
   "cell_type": "code",
   "execution_count": 115,
   "metadata": {},
   "outputs": [
    {
     "data": {
      "text/plain": [
       "array([-1,  2, -1,  4, -1,  6])"
      ]
     },
     "execution_count": 115,
     "metadata": {},
     "output_type": "execute_result"
    }
   ],
   "source": [
    "def replace_odd_numbers(array: np.array) -> np.array:\n",
    "    result = np.where(array % 2 == 1, -1, array)\n",
    "    return result\n",
    "\n",
    "replace_odd_numbers(np.array([1,2,3,4,5,6]))\n"
   ]
  },
  {
   "cell_type": "code",
   "execution_count": 90,
   "metadata": {},
   "outputs": [],
   "source": [
    "# Készíts egy olyan függvényt, ami egy array értékeit -1 és 1-re változtatja, attól függően, hogy az adott elem nagyobb \n",
    "# vagy kisebb a paraméterként megadott számnál.\n",
    "# Ha a szám kisebb mint a megadott érték, akkor -1, ha nagyobb vagy egyenlő, akkor pedig 1.\n",
    "# Be: [1, 2, 5, 0], 2\n",
    "# Ki: [-1, 1, 1, -1]\n",
    "# replace_by_value()"
   ]
  },
  {
   "cell_type": "code",
   "execution_count": 91,
   "metadata": {},
   "outputs": [
    {
     "data": {
      "text/plain": [
       "array([-1,  1,  1, -1])"
      ]
     },
     "execution_count": 91,
     "metadata": {},
     "output_type": "execute_result"
    }
   ],
   "source": [
    "def replace_by_value(array: np.array, number) -> np.array:  \n",
    "    return np.where(array < number, -1, 1)\n",
    "\n",
    "replace_by_value(np.array([1, 2, 5, 0], 2))"
   ]
  },
  {
   "cell_type": "code",
   "execution_count": 92,
   "metadata": {},
   "outputs": [],
   "source": [
    "# Készíts egy olyan függvényt, ami egy array értékeit összeszorozza és az eredményt visszaadja\n",
    "# Be: [1,2,3,4]\n",
    "# Ki: 24\n",
    "# array_multi()\n",
    "# Ha több dimenziós a tömb, akkor az egész tömb elemeinek szorzatával térjen vissza"
   ]
  },
  {
   "cell_type": "code",
   "execution_count": 93,
   "metadata": {},
   "outputs": [
    {
     "data": {
      "text/plain": [
       "24"
      ]
     },
     "execution_count": 93,
     "metadata": {},
     "output_type": "execute_result"
    }
   ],
   "source": [
    "def array_multi(arr):\n",
    "    return np.prod(arr)\n",
    "\n",
    "array_multi([1,2,3,4])"
   ]
  },
  {
   "cell_type": "code",
   "execution_count": 94,
   "metadata": {},
   "outputs": [],
   "source": [
    "# Készíts egy olyan függvényt, ami egy 2D array értékeit összeszorozza és egy olyan array-el tér vissza, aminek az \n",
    "# elemei a soroknak a szorzata\n",
    "# Be: [[1, 2], [3, 4]]\n",
    "# Ki: [2, 12]\n",
    "# array_multi_2d()"
   ]
  },
  {
   "cell_type": "code",
   "execution_count": 95,
   "metadata": {},
   "outputs": [
    {
     "data": {
      "text/plain": [
       "[2, 12]"
      ]
     },
     "execution_count": 95,
     "metadata": {},
     "output_type": "execute_result"
    }
   ],
   "source": [
    "def array_multi_2d(arr):\n",
    "    mul = np.prod(arr, axis=1)\n",
    "    return list(mul)\n",
    "\n",
    "array_multi_2d([[1, 2], [3, 4]])"
   ]
  },
  {
   "cell_type": "code",
   "execution_count": 96,
   "metadata": {},
   "outputs": [],
   "source": [
    "# Készíts egy olyan függvényt, amit egy meglévő numpy array-hez készít egy bordert nullásokkal. Bementként egy array-t várjon és kimenetként egy array jelenjen meg aminek van border-je\n",
    "# Be: [[1,2],[3,4]]\n",
    "# Ki: [[0,0,0,0],[0,1,2,0],[0,3,4,0],[0,0,0,0]]\n",
    "# add_border()\n"
   ]
  },
  {
   "cell_type": "code",
   "execution_count": 97,
   "metadata": {},
   "outputs": [
    {
     "data": {
      "text/plain": [
       "array([[0., 0., 0., 0.],\n",
       "       [0., 1., 2., 0.],\n",
       "       [0., 3., 4., 0.],\n",
       "       [0., 0., 0., 0.]])"
      ]
     },
     "execution_count": 97,
     "metadata": {},
     "output_type": "execute_result"
    }
   ],
   "source": [
    "def add_border(array: np.array) -> np.array:\n",
    "    row, column = np.array(array).shape\n",
    "    new_array = np.zeros((row+2, column+2))\n",
    "    new_array[1:-1, 1:-1] = array\n",
    "\n",
    "    return new_array\n",
    "\n",
    "add_border([[1,2],[3,4]])"
   ]
  },
  {
   "cell_type": "code",
   "execution_count": 98,
   "metadata": {},
   "outputs": [],
   "source": [
    "# A KÖTVETKEZŐ FELADATOKHOZ NÉZZÉTEK MEG A NUMPY DATA TYPE-JÁT!"
   ]
  },
  {
   "cell_type": "code",
   "execution_count": 99,
   "metadata": {},
   "outputs": [],
   "source": [
    "# Készíts egy olyan függvényt ami két dátum között felsorolja az összes napot és ezt adja vissza egy numpy array-ben. A fgv ként str vár paraméterként 'YYYY-MM' formában.\n",
    "# Be: '2023-03', '2023-04'  # mind a kettő paraméter str.\n",
    "# Ki: ['2023-03-01', '2023-03-02', .. , '2023-03-31',]\n",
    "# list_days()"
   ]
  },
  {
   "cell_type": "code",
   "execution_count": 100,
   "metadata": {},
   "outputs": [
    {
     "data": {
      "text/plain": [
       "array(['2023-03-01', '2023-03-02', '2023-03-03', '2023-03-04',\n",
       "       '2023-03-05', '2023-03-06', '2023-03-07', '2023-03-08',\n",
       "       '2023-03-09', '2023-03-10', '2023-03-11', '2023-03-12',\n",
       "       '2023-03-13', '2023-03-14', '2023-03-15', '2023-03-16',\n",
       "       '2023-03-17', '2023-03-18', '2023-03-19', '2023-03-20',\n",
       "       '2023-03-21', '2023-03-22', '2023-03-23', '2023-03-24',\n",
       "       '2023-03-25', '2023-03-26', '2023-03-27', '2023-03-28',\n",
       "       '2023-03-29', '2023-03-30', '2023-03-31'], dtype='datetime64[D]')"
      ]
     },
     "execution_count": 100,
     "metadata": {},
     "output_type": "execute_result"
    }
   ],
   "source": [
    "def list_days(start_date: str, end_date: str)-> np.array:\n",
    "    #start = np.datetime64(start_date+\"-01\")\n",
    "    #end = np.datetime64(end_date+\"-01\")\n",
    "    #array = np.array(np.arange(start,end),np.datetime64)\n",
    "    array = np.arange(start_date, end_date, dtype='datetime64[D]')\n",
    "    return array\n",
    "\n",
    "list_days('2023-03', '2023-04')"
   ]
  },
  {
   "cell_type": "code",
   "execution_count": 101,
   "metadata": {},
   "outputs": [],
   "source": [
    "# Írj egy fügvgényt ami vissza adja az aktuális dátumot az alábbi formában: YYYY-MM-DD. Térjen vissza egy 'numpy.datetime64' típussal.\n",
    "# Be:\n",
    "# Ki: 2017-03-24\n"
   ]
  },
  {
   "cell_type": "code",
   "execution_count": 102,
   "metadata": {},
   "outputs": [
    {
     "data": {
      "text/plain": [
       "'2023-03-10'"
      ]
     },
     "execution_count": 102,
     "metadata": {},
     "output_type": "execute_result"
    }
   ],
   "source": [
    "def get_act_date():\n",
    "    act_date = np.datetime64('now')\n",
    "    return np.datetime_as_string(act_date, unit='D')\n",
    "\n",
    "get_act_date()"
   ]
  },
  {
   "cell_type": "code",
   "execution_count": 103,
   "metadata": {},
   "outputs": [],
   "source": [
    "# Írj egy olyan függvényt ami visszadja, hogy mennyi másodperc telt el 1970 január 01. 00:02:00 óta. Int-el térjen vissza\n",
    "# Be: \n",
    "# Ki: másodpercben az idó, int-é kasztolva\n",
    "# sec_from_1970()"
   ]
  },
  {
   "cell_type": "code",
   "execution_count": 114,
   "metadata": {},
   "outputs": [
    {
     "data": {
      "text/plain": [
       "1678481879"
      ]
     },
     "execution_count": 114,
     "metadata": {},
     "output_type": "execute_result"
    }
   ],
   "source": [
    "def sec_from_1970() -> int: \n",
    "    time1 = np.datetime64('now')\n",
    "    time2 = '1970-01-01 00:02:00'    \n",
    "    dt = np.datetime64(time1) - np.datetime64(time2)\n",
    "    seconds = dt.item().total_seconds()\n",
    "\n",
    "    return int(seconds)\n",
    "\n",
    "sec_from_1970()"
   ]
  },
  {
   "cell_type": "code",
   "execution_count": null,
   "metadata": {},
   "outputs": [],
   "source": []
  }
 ],
 "metadata": {
  "kernelspec": {
   "display_name": "Python 3",
   "language": "python",
   "name": "python3"
  },
  "language_info": {
   "codemirror_mode": {
    "name": "ipython",
    "version": 3
   },
   "file_extension": ".py",
   "mimetype": "text/x-python",
   "name": "python",
   "nbconvert_exporter": "python",
   "pygments_lexer": "ipython3",
   "version": "3.9.13"
  },
  "orig_nbformat": 4
 },
 "nbformat": 4,
 "nbformat_minor": 2
}
